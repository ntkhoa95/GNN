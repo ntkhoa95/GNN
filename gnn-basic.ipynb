{
 "cells": [
  {
   "cell_type": "code",
   "execution_count": 1,
   "metadata": {},
   "outputs": [
    {
     "name": "stdout",
     "output_type": "stream",
     "text": [
      "Author: Niko\n",
      "\n",
      "Python implementation: CPython\n",
      "Python version       : 3.8.12\n",
      "IPython version      : 7.31.0\n",
      "\n",
      "torch: 1.10.0\n",
      "\n"
     ]
    }
   ],
   "source": [
    "%load_ext watermark\n",
    "%watermark -a 'Niko' -v -p torch"
   ]
  },
  {
   "cell_type": "markdown",
   "metadata": {},
   "source": [
    "### Most Basic Graph Neural Network with Gaussian Filter on MNIST\n",
    "\n",
    "A very basic graph neural network (GNN) implementation using a Gaussian Filter.\n",
    "\n",
    "<br>Here, the $28$ x $28$ image of a digit in MNIST represents the graph, where each pixel (i.e., cell in the grid) represents a particular node. The feature of that node is simply the pixel intensity in range $[0, 1]$.\n",
    "\n",
    "<br>The adjacency matrix of the pixels is basically just determined by their neighborhood pixels. Using a Gaussian filter, we connect pixels based on their Euclidean distance in grid.\n",
    "\n",
    "<br>Using this adjacency matrix $A$, we can compute the output of a layer as\n",
    "\\begin{align*}\n",
    "X^{(l+1)} = AX^{(l)}W^{(l)}\n",
    "\\end{align*}\n",
    "\n",
    "Here, $A$ is the $N$ x $N$ adjacency matrix, and $X$ is the $N$ x $C$ feature matrix (a 2D coordinate array, where $N$ is the total number of pixels -- $28$ x $28$ $= 784$ in MNIST).\n",
    "$W$ is the weight matrix of shape $N$ x $P$, where $P$ would present the number of classes if we have only a single hidden layer."
   ]
  },
  {
   "cell_type": "code",
   "execution_count": 2,
   "metadata": {},
   "outputs": [],
   "source": [
    "# Import libraries\n",
    "import time, torch\n",
    "import numpy as np\n",
    "from tqdm import tqdm\n",
    "import torch.nn as nn\n",
    "import matplotlib.pyplot as plt\n",
    "import torch.nn.functional as F\n",
    "from torchvision import datasets, transforms\n",
    "from torch.utils.data import DataLoader, random_split\n",
    "from torch.utils.data.dataset import Subset\n",
    "from scipy.spatial.distance import cdist\n",
    "\n",
    "import warnings, copy\n",
    "warnings.filterwarnings('ignore')\n",
    "\n",
    "if torch.cuda.is_available(): \n",
    "    torch.backends.cudnn.deterministic = True\n",
    "\n",
    "%matplotlib inline"
   ]
  },
  {
   "cell_type": "code",
   "execution_count": 3,
   "metadata": {},
   "outputs": [],
   "source": [
    "# Setting device\n",
    "DEVICE = torch.device(\"cuda\" if torch.cuda.is_available() else \"cpu\")\n",
    "\n",
    "# Setting hyper-parameters\n",
    "RANDOM_SEED = 42\n",
    "LEARNING_RATE = 0.0005\n",
    "NUM_EPOCHS = 20\n",
    "BATCH_SIZE = 128\n",
    "IMG_SIZE = 28"
   ]
  },
  {
   "cell_type": "markdown",
   "metadata": {},
   "source": [
    "### MNIST Dataset"
   ]
  },
  {
   "cell_type": "code",
   "execution_count": 4,
   "metadata": {},
   "outputs": [],
   "source": [
    "custom_transfrom = transforms.Compose([transforms.ToTensor()])\n",
    "\n",
    "train_dataset = datasets.MNIST(root=\"./data\", train=True, transform=custom_transfrom, download=True)\n",
    "test_dataset = datasets.MNIST(root=\"./data\", train=False, transform=custom_transfrom, download=True)"
   ]
  },
  {
   "cell_type": "code",
   "execution_count": 5,
   "metadata": {},
   "outputs": [],
   "source": [
    "\n",
    "# mean, std = torch.zeros(3), torch.zeros(3)\n",
    "# for img, label in train_dataset:\n",
    "#     mean += torch.mean(img, dim=(1, 2))\n",
    "#     std  += torch.std(img, dim=(1, 2))\n",
    "    \n",
    "# mean /= len(train_dataset)\n",
    "# std /= len(train_dataset)\n",
    "\n",
    "# mean, std"
   ]
  },
  {
   "cell_type": "code",
   "execution_count": 6,
   "metadata": {},
   "outputs": [
    {
     "name": "stdout",
     "output_type": "stream",
     "text": [
      "Image batch dimension:  torch.Size([128, 1, 28, 28])\n",
      "Image label dimension:  torch.Size([128])\n"
     ]
    }
   ],
   "source": [
    "SPLIT_RATIO = 0.9 # 90% for training, 10% for valid\n",
    "train_samples_num = int(len(train_dataset) * SPLIT_RATIO)\n",
    "val_samples_num = len(train_dataset) - train_samples_num\n",
    "\n",
    "train_dataset, val_dataset = random_split(train_dataset, [train_samples_num, val_samples_num])\n",
    "\n",
    "train_loader = DataLoader(dataset=train_dataset, batch_size=BATCH_SIZE, num_workers=4, shuffle=True)\n",
    "val_loader   = DataLoader(dataset=val_dataset, batch_size=BATCH_SIZE, num_workers=4, shuffle=False)\n",
    "test_loader  = DataLoader(dataset=test_dataset, batch_size=BATCH_SIZE, num_workers=4, shuffle=False)\n",
    "\n",
    "# Check the dataset\n",
    "for images, labels in train_loader:\n",
    "    print('Image batch dimension: ', images.shape)\n",
    "    print('Image label dimension: ', labels.shape)\n",
    "    break"
   ]
  },
  {
   "cell_type": "markdown",
   "metadata": {},
   "source": [
    "### Building Model"
   ]
  },
  {
   "cell_type": "code",
   "execution_count": 7,
   "metadata": {},
   "outputs": [],
   "source": [
    "def precompute_adjacency_matrix(img_size):\n",
    "    col, row = np.meshgrid(np.arange(img_size), np.arange(img_size))\n",
    "    \n",
    "    # N = img_size x img_size\n",
    "    # Construct a 2D coordinate array (shape N x 2) and normalize to range (0, 1)\n",
    "    coord = np.stack((col, row), axis=2).reshape(-1, 2) / img_size\n",
    "\n",
    "    # Compute pairwise distance matrix (N x N)\n",
    "    dist = cdist(coord, coord, metric='euclidean')\n",
    "\n",
    "    # Apply Gaussian Filter\n",
    "    sigma = 0.05 * np.pi\n",
    "    A = np.exp(-dist / sigma**2)\n",
    "    A[A < 0.01] = 0\n",
    "    A = torch.from_numpy(A).float()\n",
    "\n",
    "    # Normalization as per (Kipf & Welling, ICLR 2017)\n",
    "    D = A.sum(1) # nodes degree (N,)\n",
    "    D_hat = (D + 1e-5)**(-0.5)\n",
    "    A_hat = D_hat.view(-1, 1) * A * D_hat.view(1, -1)\n",
    "\n",
    "    return A_hat"
   ]
  },
  {
   "cell_type": "code",
   "execution_count": 8,
   "metadata": {},
   "outputs": [
    {
     "name": "stdout",
     "output_type": "stream",
     "text": [
      "torch.Size([784, 784])\n"
     ]
    },
    {
     "data": {
      "image/png": "[encoded data removed]",
      "text/plain": [
       "<Figure size 432x288 with 1 Axes>"
      ]
     },
     "metadata": {
      "needs_background": "light"
     },
     "output_type": "display_data"
    }
   ],
   "source": [
    "A_hat = precompute_adjacency_matrix(28)\n",
    "plt.imshow(precompute_adjacency_matrix(28))\n",
    "plt.show()"
   ]
  },
  {
   "cell_type": "code",
   "execution_count": 9,
   "metadata": {},
   "outputs": [],
   "source": [
    "# Graph Model\n",
    "\n",
    "class GraphNet(nn.Module):\n",
    "    def __init__(self, img_size=28, num_classes=10):\n",
    "        super(GraphNet, self).__init__()\n",
    "\n",
    "        n_rows = img_size**2\n",
    "        self.fc = nn.Linear(n_rows, num_classes, bias=False)\n",
    "        A = precompute_adjacency_matrix(img_size=img_size)\n",
    "        self.register_buffer('A', A)\n",
    "\n",
    "    def forward(self, x):\n",
    "        B = x.size(0) # Batch size\n",
    "\n",
    "        # Reshape Adjacency Matrix\n",
    "        # [N, N] Adjacency. matrix -> [1, N, N] Adjacency tensor where N = H x W\n",
    "        A_tensor = self.A.unsqueeze(0)\n",
    "        A_tensor = self.A.expand(B, -1, -1)\n",
    "\n",
    "        # Reshape inputs\n",
    "        # [B, C, H, W] -> [B, HxW, 1]\n",
    "        x_reshape = x.view(B, -1, 1)\n",
    "\n",
    "        # bmm: batch matrix product to sum the neighbor features\n",
    "        # Input: [B, N, N] x [B, N, 1]\n",
    "        # Output: [B, N]\n",
    "        avg_neighbor_features = torch.bmm(A_tensor, x_reshape).view(B, -1)\n",
    "        logits = self.fc(avg_neighbor_features)\n",
    "        probas = F.softmax(logits, dim=1)\n",
    "        return logits, probas"
   ]
  },
  {
   "cell_type": "code",
   "execution_count": 10,
   "metadata": {},
   "outputs": [],
   "source": [
    "torch.manual_seed(RANDOM_SEED)\n",
    "model = GraphNet(img_size=IMG_SIZE, num_classes=10)\n",
    "model = model.to(DEVICE)\n",
    "# optimizer = torch.optim.SGD(model.parameters(), lr=LEARNING_RATE)\n",
    "optimizer = torch.optim.Adam(model.parameters(), lr=LEARNING_RATE)"
   ]
  },
  {
   "cell_type": "code",
   "execution_count": 11,
   "metadata": {},
   "outputs": [],
   "source": [
    "def compute_acc(model, dataloader, device):\n",
    "    correct_pred, num_examples = 0, 0\n",
    "    for features, targets in dataloader:\n",
    "        features = features.to(device)\n",
    "        targets = targets.to(device)\n",
    "        logits, probas = model(features)\n",
    "        _, pred_labels = torch.max(probas, 1)\n",
    "        num_examples += features.size(0)\n",
    "        correct_pred += (pred_labels == targets).sum()\n",
    "    return correct_pred.float() / num_examples * 100"
   ]
  },
  {
   "cell_type": "code",
   "execution_count": 12,
   "metadata": {},
   "outputs": [
    {
     "name": "stderr",
     "output_type": "stream",
     "text": [
      "  0%|          | 0/20 [00:00<?, ?it/s]"
     ]
    },
    {
     "name": "stdout",
     "output_type": "stream",
     "text": [
      "Epoch: 001/020 |Batch: 000/422 |Loss: 2.2829\n",
      "Epoch: 001/020 |Batch: 150/422 |Loss: 1.0369\n",
      "Epoch: 001/020 |Batch: 300/422 |Loss: 0.7906\n"
     ]
    },
    {
     "name": "stderr",
     "output_type": "stream",
     "text": [
      "  5%|▌         | 1/20 [00:05<01:52,  5.91s/it]"
     ]
    },
    {
     "name": "stdout",
     "output_type": "stream",
     "text": [
      "Epoch: 001/020\n",
      "Train Accuracy: 86.39 | Valid Accuracy: 86.15 | Test Accuracy: 87.35\n",
      "Time elapsed: 0.10 min\n",
      "Epoch: 002/020 |Batch: 000/422 |Loss: 0.6440\n",
      "Epoch: 002/020 |Batch: 150/422 |Loss: 0.4777\n",
      "Epoch: 002/020 |Batch: 300/422 |Loss: 0.5582\n"
     ]
    },
    {
     "name": "stderr",
     "output_type": "stream",
     "text": [
      " 10%|█         | 2/20 [00:12<01:49,  6.06s/it]"
     ]
    },
    {
     "name": "stdout",
     "output_type": "stream",
     "text": [
      "Epoch: 002/020\n",
      "Train Accuracy: 88.68 | Valid Accuracy: 88.20 | Test Accuracy: 89.43\n",
      "Time elapsed: 0.20 min\n",
      "Epoch: 003/020 |Batch: 000/422 |Loss: 0.4412\n",
      "Epoch: 003/020 |Batch: 150/422 |Loss: 0.3303\n",
      "Epoch: 003/020 |Batch: 300/422 |Loss: 0.4011\n"
     ]
    },
    {
     "name": "stderr",
     "output_type": "stream",
     "text": [
      " 15%|█▌        | 3/20 [00:18<01:43,  6.11s/it]"
     ]
    },
    {
     "name": "stdout",
     "output_type": "stream",
     "text": [
      "Epoch: 003/020\n",
      "Train Accuracy: 89.61 | Valid Accuracy: 89.30 | Test Accuracy: 90.34\n",
      "Time elapsed: 0.30 min\n",
      "Epoch: 004/020 |Batch: 000/422 |Loss: 0.5181\n",
      "Epoch: 004/020 |Batch: 150/422 |Loss: 0.3627\n",
      "Epoch: 004/020 |Batch: 300/422 |Loss: 0.3162\n"
     ]
    },
    {
     "name": "stderr",
     "output_type": "stream",
     "text": [
      " 20%|██        | 4/20 [00:24<01:38,  6.13s/it]"
     ]
    },
    {
     "name": "stdout",
     "output_type": "stream",
     "text": [
      "Epoch: 004/020\n",
      "Train Accuracy: 90.29 | Valid Accuracy: 89.95 | Test Accuracy: 90.91\n",
      "Time elapsed: 0.41 min\n",
      "Epoch: 005/020 |Batch: 000/422 |Loss: 0.4025\n",
      "Epoch: 005/020 |Batch: 150/422 |Loss: 0.2191\n",
      "Epoch: 005/020 |Batch: 300/422 |Loss: 0.3186\n"
     ]
    },
    {
     "name": "stderr",
     "output_type": "stream",
     "text": [
      " 25%|██▌       | 5/20 [00:30<01:33,  6.21s/it]"
     ]
    },
    {
     "name": "stdout",
     "output_type": "stream",
     "text": [
      "Epoch: 005/020\n",
      "Train Accuracy: 90.52 | Valid Accuracy: 90.42 | Test Accuracy: 90.96\n",
      "Time elapsed: 0.51 min\n",
      "Epoch: 006/020 |Batch: 000/422 |Loss: 0.5199\n",
      "Epoch: 006/020 |Batch: 150/422 |Loss: 0.3385\n",
      "Epoch: 006/020 |Batch: 300/422 |Loss: 0.3322\n"
     ]
    },
    {
     "name": "stderr",
     "output_type": "stream",
     "text": [
      " 30%|███       | 6/20 [00:37<01:27,  6.24s/it]"
     ]
    },
    {
     "name": "stdout",
     "output_type": "stream",
     "text": [
      "Epoch: 006/020\n",
      "Train Accuracy: 90.90 | Valid Accuracy: 90.83 | Test Accuracy: 91.07\n",
      "Time elapsed: 0.62 min\n",
      "Epoch: 007/020 |Batch: 000/422 |Loss: 0.3949\n",
      "Epoch: 007/020 |Batch: 150/422 |Loss: 0.3057\n",
      "Epoch: 007/020 |Batch: 300/422 |Loss: 0.2952\n"
     ]
    },
    {
     "name": "stderr",
     "output_type": "stream",
     "text": [
      " 35%|███▌      | 7/20 [00:43<01:21,  6.25s/it]"
     ]
    },
    {
     "name": "stdout",
     "output_type": "stream",
     "text": [
      "Epoch: 007/020\n",
      "Train Accuracy: 90.97 | Valid Accuracy: 90.92 | Test Accuracy: 91.33\n",
      "Time elapsed: 0.72 min\n",
      "Epoch: 008/020 |Batch: 000/422 |Loss: 0.2930\n",
      "Epoch: 008/020 |Batch: 150/422 |Loss: 0.3168\n",
      "Epoch: 008/020 |Batch: 300/422 |Loss: 0.2676\n"
     ]
    },
    {
     "name": "stderr",
     "output_type": "stream",
     "text": [
      " 40%|████      | 8/20 [00:49<01:15,  6.29s/it]"
     ]
    },
    {
     "name": "stdout",
     "output_type": "stream",
     "text": [
      "Epoch: 008/020\n",
      "Train Accuracy: 91.34 | Valid Accuracy: 91.17 | Test Accuracy: 91.44\n",
      "Time elapsed: 0.83 min\n",
      "Epoch: 009/020 |Batch: 000/422 |Loss: 0.3424\n",
      "Epoch: 009/020 |Batch: 150/422 |Loss: 0.2425\n",
      "Epoch: 009/020 |Batch: 300/422 |Loss: 0.2092\n"
     ]
    },
    {
     "name": "stderr",
     "output_type": "stream",
     "text": [
      " 45%|████▌     | 9/20 [00:55<01:08,  6.26s/it]"
     ]
    },
    {
     "name": "stdout",
     "output_type": "stream",
     "text": [
      "Epoch: 009/020\n",
      "Train Accuracy: 91.32 | Valid Accuracy: 91.22 | Test Accuracy: 91.45\n",
      "Time elapsed: 0.93 min\n",
      "Epoch: 010/020 |Batch: 000/422 |Loss: 0.2701\n",
      "Epoch: 010/020 |Batch: 150/422 |Loss: 0.2744\n",
      "Epoch: 010/020 |Batch: 300/422 |Loss: 0.4493\n"
     ]
    },
    {
     "name": "stderr",
     "output_type": "stream",
     "text": [
      " 50%|█████     | 10/20 [01:02<01:03,  6.36s/it]"
     ]
    },
    {
     "name": "stdout",
     "output_type": "stream",
     "text": [
      "Epoch: 010/020\n",
      "Train Accuracy: 91.50 | Valid Accuracy: 91.35 | Test Accuracy: 91.66\n",
      "Time elapsed: 1.04 min\n",
      "Epoch: 011/020 |Batch: 000/422 |Loss: 0.2879\n",
      "Epoch: 011/020 |Batch: 150/422 |Loss: 0.2380\n",
      "Epoch: 011/020 |Batch: 300/422 |Loss: 0.2628\n"
     ]
    },
    {
     "name": "stderr",
     "output_type": "stream",
     "text": [
      " 55%|█████▌    | 11/20 [01:08<00:57,  6.37s/it]"
     ]
    },
    {
     "name": "stdout",
     "output_type": "stream",
     "text": [
      "Epoch: 011/020\n",
      "Train Accuracy: 91.68 | Valid Accuracy: 91.65 | Test Accuracy: 91.85\n",
      "Time elapsed: 1.15 min\n",
      "Epoch: 012/020 |Batch: 000/422 |Loss: 0.2677\n",
      "Epoch: 012/020 |Batch: 150/422 |Loss: 0.3194\n",
      "Epoch: 012/020 |Batch: 300/422 |Loss: 0.2545\n"
     ]
    },
    {
     "name": "stderr",
     "output_type": "stream",
     "text": [
      " 60%|██████    | 12/20 [01:15<00:51,  6.38s/it]"
     ]
    },
    {
     "name": "stdout",
     "output_type": "stream",
     "text": [
      "Epoch: 012/020\n",
      "Train Accuracy: 91.74 | Valid Accuracy: 91.58 | Test Accuracy: 91.84\n",
      "Time elapsed: 1.25 min\n",
      "Epoch: 013/020 |Batch: 000/422 |Loss: 0.2277\n",
      "Epoch: 013/020 |Batch: 150/422 |Loss: 0.3411\n",
      "Epoch: 013/020 |Batch: 300/422 |Loss: 0.3349\n"
     ]
    },
    {
     "name": "stderr",
     "output_type": "stream",
     "text": [
      " 65%|██████▌   | 13/20 [01:21<00:44,  6.41s/it]"
     ]
    },
    {
     "name": "stdout",
     "output_type": "stream",
     "text": [
      "Epoch: 013/020\n",
      "Train Accuracy: 91.75 | Valid Accuracy: 91.78 | Test Accuracy: 91.89\n",
      "Time elapsed: 1.36 min\n",
      "Epoch: 014/020 |Batch: 000/422 |Loss: 0.2703\n",
      "Epoch: 014/020 |Batch: 150/422 |Loss: 0.3937\n",
      "Epoch: 014/020 |Batch: 300/422 |Loss: 0.2035\n"
     ]
    },
    {
     "name": "stderr",
     "output_type": "stream",
     "text": [
      " 70%|███████   | 14/20 [01:28<00:38,  6.38s/it]"
     ]
    },
    {
     "name": "stdout",
     "output_type": "stream",
     "text": [
      "Epoch: 014/020\n",
      "Train Accuracy: 91.88 | Valid Accuracy: 91.87 | Test Accuracy: 92.07\n",
      "Time elapsed: 1.47 min\n",
      "Epoch: 015/020 |Batch: 000/422 |Loss: 0.2302\n",
      "Epoch: 015/020 |Batch: 150/422 |Loss: 0.2065\n",
      "Epoch: 015/020 |Batch: 300/422 |Loss: 0.2855\n"
     ]
    },
    {
     "name": "stderr",
     "output_type": "stream",
     "text": [
      " 75%|███████▌  | 15/20 [01:34<00:31,  6.39s/it]"
     ]
    },
    {
     "name": "stdout",
     "output_type": "stream",
     "text": [
      "Epoch: 015/020\n",
      "Train Accuracy: 91.87 | Valid Accuracy: 91.75 | Test Accuracy: 92.04\n",
      "Time elapsed: 1.57 min\n",
      "Epoch: 016/020 |Batch: 000/422 |Loss: 0.3235\n",
      "Epoch: 016/020 |Batch: 150/422 |Loss: 0.3023\n",
      "Epoch: 016/020 |Batch: 300/422 |Loss: 0.1407\n"
     ]
    },
    {
     "name": "stderr",
     "output_type": "stream",
     "text": [
      " 80%|████████  | 16/20 [01:40<00:25,  6.34s/it]"
     ]
    },
    {
     "name": "stdout",
     "output_type": "stream",
     "text": [
      "Epoch: 016/020\n",
      "Train Accuracy: 92.00 | Valid Accuracy: 91.97 | Test Accuracy: 92.13\n",
      "Time elapsed: 1.68 min\n",
      "Epoch: 017/020 |Batch: 000/422 |Loss: 0.3441\n",
      "Epoch: 017/020 |Batch: 150/422 |Loss: 0.4426\n",
      "Epoch: 017/020 |Batch: 300/422 |Loss: 0.2778\n"
     ]
    },
    {
     "name": "stderr",
     "output_type": "stream",
     "text": [
      " 85%|████████▌ | 17/20 [01:46<00:18,  6.32s/it]"
     ]
    },
    {
     "name": "stdout",
     "output_type": "stream",
     "text": [
      "Epoch: 017/020\n",
      "Train Accuracy: 92.06 | Valid Accuracy: 91.88 | Test Accuracy: 92.15\n",
      "Time elapsed: 1.78 min\n",
      "Epoch: 018/020 |Batch: 000/422 |Loss: 0.3392\n",
      "Epoch: 018/020 |Batch: 150/422 |Loss: 0.2329\n",
      "Epoch: 018/020 |Batch: 300/422 |Loss: 0.2620\n"
     ]
    },
    {
     "name": "stderr",
     "output_type": "stream",
     "text": [
      " 90%|█████████ | 18/20 [01:53<00:12,  6.27s/it]"
     ]
    },
    {
     "name": "stdout",
     "output_type": "stream",
     "text": [
      "Epoch: 018/020\n",
      "Train Accuracy: 92.01 | Valid Accuracy: 91.90 | Test Accuracy: 92.14\n",
      "Time elapsed: 1.89 min\n",
      "Epoch: 019/020 |Batch: 000/422 |Loss: 0.3693\n",
      "Epoch: 019/020 |Batch: 150/422 |Loss: 0.3408\n",
      "Epoch: 019/020 |Batch: 300/422 |Loss: 0.2758\n"
     ]
    },
    {
     "name": "stderr",
     "output_type": "stream",
     "text": [
      " 95%|█████████▌| 19/20 [01:59<00:06,  6.26s/it]"
     ]
    },
    {
     "name": "stdout",
     "output_type": "stream",
     "text": [
      "Epoch: 019/020\n",
      "Train Accuracy: 92.08 | Valid Accuracy: 92.03 | Test Accuracy: 92.27\n",
      "Time elapsed: 1.99 min\n",
      "Epoch: 020/020 |Batch: 000/422 |Loss: 0.2823\n",
      "Epoch: 020/020 |Batch: 150/422 |Loss: 0.2575\n",
      "Epoch: 020/020 |Batch: 300/422 |Loss: 0.2671\n"
     ]
    },
    {
     "name": "stderr",
     "output_type": "stream",
     "text": [
      "100%|██████████| 20/20 [02:05<00:00,  6.29s/it]"
     ]
    },
    {
     "name": "stdout",
     "output_type": "stream",
     "text": [
      "Epoch: 020/020\n",
      "Train Accuracy: 92.11 | Valid Accuracy: 92.23 | Test Accuracy: 92.32\n",
      "Time elapsed: 2.10 min\n",
      "Total Training Time: 2.10 min\n"
     ]
    },
    {
     "name": "stderr",
     "output_type": "stream",
     "text": [
      "\n"
     ]
    }
   ],
   "source": [
    "start_time = time.time()\n",
    "\n",
    "loss_list = []\n",
    "train_acc_list, val_acc_list, test_acc_list = [], [], []\n",
    "\n",
    "for epoch in tqdm(range(NUM_EPOCHS)):\n",
    "    model.train()\n",
    "    for batch_idx, (features, targets) in enumerate(train_loader):\n",
    "        features = features.to(DEVICE)\n",
    "        targets = targets.to(DEVICE)\n",
    "\n",
    "        # Forward and back-propagation\n",
    "        logits, probas = model(features)\n",
    "        loss = F.cross_entropy(logits, targets)\n",
    "        optimizer.zero_grad()\n",
    "        loss.backward()\n",
    "        # Update model parameters\n",
    "        optimizer.step()\n",
    "        loss_list.append(loss.item())\n",
    "\n",
    "        if not batch_idx % 150:\n",
    "            print(f\"Epoch: {epoch+1:03d}/{NUM_EPOCHS:03d} |\"\n",
    "                    f\"Batch: {batch_idx:03d}/{len(train_loader):03d} |\"\n",
    "                    f\"Loss: {loss:.4f}\")\n",
    "    model.eval()\n",
    "    with torch.no_grad():\n",
    "        train_acc = compute_acc(model, train_loader, DEVICE)\n",
    "        val_acc   = compute_acc(model, val_loader, DEVICE)\n",
    "        test_acc  = compute_acc(model, test_loader, DEVICE)\n",
    "\n",
    "        print(f\"Epoch: {epoch+1:03d}/{NUM_EPOCHS:03d}\\n\"\n",
    "                f\"Train Accuracy: {train_acc:.2f} | Valid Accuracy: {val_acc:.2f} | Test Accuracy: {test_acc:.2f}\")\n",
    "\n",
    "        train_acc_list.append(train_acc)\n",
    "        val_acc_list.append(val_acc)\n",
    "        test_acc_list.append(test_acc)\n",
    "\n",
    "    elapsed = (time.time() - start_time) / 60\n",
    "    print(f\"Time elapsed: {elapsed:.2f} min\")\n",
    "\n",
    "elapsed = (time.time() - start_time) / 60\n",
    "print(f\"Total Training Time: {elapsed:.2f} min\")"
   ]
  },
  {
   "cell_type": "markdown",
   "metadata": {},
   "source": [
    "### Evaluation"
   ]
  },
  {
   "cell_type": "code",
   "execution_count": 13,
   "metadata": {},
   "outputs": [
    {
     "data": {
      "image/png": "[encoded data removed]",
      "text/plain": [
       "<Figure size 432x288 with 1 Axes>"
      ]
     },
     "metadata": {
      "needs_background": "light"
     },
     "output_type": "display_data"
    }
   ],
   "source": [
    "plt.plot(loss_list, label='Loss')\n",
    "plt.plot(np.convolve(loss_list, np.ones(200,) / 200, mode='valid'), label='Running Average')\n",
    "plt.ylabel('Cross Entropy Loss')\n",
    "plt.xlabel('Iteration')\n",
    "plt.legend()\n",
    "plt.show()\n"
   ]
  },
  {
   "cell_type": "code",
   "execution_count": 14,
   "metadata": {},
   "outputs": [
    {
     "data": {
      "image/png": "[encoded data removed]",
      "text/plain": [
       "<Figure size 432x288 with 1 Axes>"
      ]
     },
     "metadata": {
      "needs_background": "light"
     },
     "output_type": "display_data"
    }
   ],
   "source": [
    "plt.plot(np.arange(1, NUM_EPOCHS+1), train_acc_list, label='Training')\n",
    "plt.plot(np.arange(1, NUM_EPOCHS+1), val_acc_list, label='Validation')\n",
    "plt.plot(np.arange(1, NUM_EPOCHS+1), test_acc_list, label='Testing')\n",
    "plt.xlabel('Epoch')# last adjacency matrix\n",
    "plt.ylabel('Accuracy')\n",
    "plt.legend()\n",
    "plt.show()"
   ]
  }
 ],
 "metadata": {
  "interpreter": {
   "hash": "cd409492fea0b90f1e24a4fd0f416e2edfe4fabf2ed7f769ce0dd2938f1b1517"
  },
  "kernelspec": {
   "display_name": "Python 3.8.12 ('torch-env')",
   "language": "python",
   "name": "python3"
  },
  "language_info": {
   "codemirror_mode": {
    "name": "ipython",
    "version": 3
   },
   "file_extension": ".py",
   "mimetype": "text/x-python",
   "name": "python",
   "nbconvert_exporter": "python",
   "pygments_lexer": "ipython3",
   "version": "3.8.12"
  },
  "orig_nbformat": 4
 },
 "nbformat": 4,
 "nbformat_minor": 2
}
