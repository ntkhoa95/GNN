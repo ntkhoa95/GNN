{
 "cells": [
  {
   "cell_type": "code",
   "execution_count": 1,
   "metadata": {},
   "outputs": [
    {
     "name": "stdout",
     "output_type": "stream",
     "text": [
      "Author: Niko\n",
      "\n",
      "Python implementation: CPython\n",
      "Python version       : 3.8.12\n",
      "IPython version      : 7.31.0\n",
      "\n",
      "torch: 1.10.0\n",
      "\n"
     ]
    }
   ],
   "source": [
    "%load_ext watermark\n",
    "%watermark -a 'Niko' -v -p torch"
   ]
  },
  {
   "cell_type": "markdown",
   "metadata": {},
   "source": [
    "### Basic Graph Neural Network with Spectral Graph Convolution on MNIST\n",
    "\n",
    "A very basic neural network (GNN) implementation using a spectral graph convolution.\n",
    "\n",
    "<br>Here, the $28$ x $28$ image of a digit in MNIST represents the graph, where each pixel (i.e., cell in the grid) represents a particular node. The feature of that node is simply the pixel intensity in range $[0, 1]$.\n",
    "\n",
    "<br>The adjacency matrix of the pixels is basically just determined by their neighborhood pixels. Using a Gaussian filter, we connect pixels based on their Euclidean distance in the grid.\n",
    "\n",
    "<br>Using the adjacency matrix $A$ to compute the output of a layer as\n",
    "\\begin{align*}\n",
    "X^{(l+1)} = AX^{(l)}W^{(l)}\n",
    "\\end{align*}\n",
    "\n",
    "<br>Here, $A$ is the $N$ x $N$ adjacency matrix, and X is the $N$ x $C$ feature matrix (a 2D coordinate array, where $N$ is the total number of pixels -- $28$ x $28$ $=784$ in MNIST). $W$ is the weight matrix of shape $N$ x $P$, where $P$ would represent the number of classes if we have only a single hidden layer.\n",
    "\n",
    "<br>In this notebook, we modify the code using spectral graph convolution, i.e.,\n",
    "\n",
    "$$X^{(l+1)} = V\\left(V^{T}X^{(l)} \\odot V^{T}W_{\\text {spectral}}^{(l)}\\right)$$\n",
    "\n",
    "<br>where $V$ are the eigen vectors of the graph Laplacian $L$, which we can compute the adjacency matrix $A$. Here, $W_{spectral}$ represents the trainable weights (filters).\n"
   ]
  },
  {
   "cell_type": "code",
   "execution_count": 2,
   "metadata": {},
   "outputs": [],
   "source": [
    "# Import libraries\n",
    "import time, torch\n",
    "import numpy as np\n",
    "from tqdm import tqdm\n",
    "import torch.nn as nn\n",
    "import matplotlib.pyplot as plt\n",
    "import torch.nn.functional as F\n",
    "from scipy.sparse.linalg import eigsh\n",
    "from torchvision import datasets, transforms\n",
    "from torch.utils.data import DataLoader, random_split\n",
    "from scipy.spatial.distance import cdist\n",
    "\n",
    "import warnings\n",
    "warnings.filterwarnings('ignore')\n",
    "\n",
    "if torch.cuda.is_available():\n",
    "    torch.backends.cudnn.deterministic = True\n",
    "\n",
    "%matplotlib inline"
   ]
  },
  {
   "cell_type": "code",
   "execution_count": 3,
   "metadata": {},
   "outputs": [],
   "source": [
    "# Setting device\n",
    "DEVICE = torch.device('cuda' if torch.cuda.is_available() else 'cpu')\n",
    "\n",
    "# Setting hyper-parameters\n",
    "RANDOM_SEED = 42\n",
    "LEARNING_RATE = 0.0005\n",
    "NUM_EPOCHS = 20\n",
    "BATCH_SIZE = 128\n",
    "IMG_SIZE = 28"
   ]
  },
  {
   "cell_type": "markdown",
   "metadata": {},
   "source": [
    "### MNIST Dataset"
   ]
  },
  {
   "cell_type": "code",
   "execution_count": 4,
   "metadata": {},
   "outputs": [],
   "source": [
    "custom_transform = transforms.Compose([transforms.ToTensor()])\n",
    "\n",
    "train_dataset = datasets.MNIST(root=\"./data\", train=True, transform=custom_transform, download=True)\n",
    "test_dataset  = datasets.MNIST(root=\"./data\", train=False, transform=custom_transform, download=True)"
   ]
  },
  {
   "cell_type": "code",
   "execution_count": 5,
   "metadata": {},
   "outputs": [
    {
     "name": "stdout",
     "output_type": "stream",
     "text": [
      "Image batch dimension:  torch.Size([128, 1, 28, 28])\n",
      "Image label dimension:  torch.Size([128])\n"
     ]
    }
   ],
   "source": [
    "SPLIT_ratio = 0.9 # 90% for training, 10% for valid\n",
    "train_samples_num = int(len(train_dataset) * SPLIT_ratio)\n",
    "val_samples_num = len(train_dataset) - train_samples_num\n",
    "\n",
    "train_dataset, val_dataset = random_split(train_dataset, [train_samples_num, val_samples_num])\n",
    "\n",
    "train_loader = DataLoader(dataset=train_dataset, batch_size=BATCH_SIZE, num_workers=4, shuffle=True)\n",
    "val_loader   = DataLoader(dataset=val_dataset, batch_size=BATCH_SIZE, num_workers=4, shuffle=False)\n",
    "test_loader  = DataLoader(dataset=test_dataset, batch_size=BATCH_SIZE, num_workers=4, shuffle=False)\n",
    "\n",
    "# Check the dataset\n",
    "for images, labels in train_loader:\n",
    "    print('Image batch dimension: ', images.shape)\n",
    "    print('Image label dimension: ', labels.shape)\n",
    "    break"
   ]
  },
  {
   "cell_type": "markdown",
   "metadata": {},
   "source": [
    "### Building Model"
   ]
  },
  {
   "cell_type": "code",
   "execution_count": 6,
   "metadata": {},
   "outputs": [],
   "source": [
    "def precompute_adjacency_matrix(img_size):\n",
    "    cols, rows = np.meshgrid(np.arange(img_size), np.arange(img_size))\n",
    "\n",
    "    # N = img_size x img_size\n",
    "    # Construct 2D coordinate array (shape N x 2) and normalize in range [0, 1]\n",
    "    coord = np.stack((cols, rows), axis=2).reshape(-1, 2) / img_size\n",
    "\n",
    "    # Compute pairwise distance matrix (N x N)\n",
    "    dist = cdist(coord, coord, metric='euclidean')\n",
    "\n",
    "    # Apply Gaussian filter\n",
    "    sigma = 0.05 * np.pi\n",
    "    A = np.exp(-dist / sigma**2)\n",
    "    A[A < 0.01] = 0\n",
    "    A = torch.from_numpy(A).float()\n",
    "\n",
    "    # # Normalization as per (Kipf & Welling, ICLR 2017)\n",
    "    # D = A.sum(1)  # node degree (N,)\n",
    "    # D_hat = (D + 1e-5)**(-0.5)\n",
    "    # A_hat = D_hat.view(-1, 1) * A * D_hat.view(1, -1) # N, N\n",
    "\n",
    "    return A\n",
    "\n",
    "def get_graph_laplacian(A):\n",
    "    # From https://towardsdatascience.com/spectral-graph-convolution-\n",
    "    #   explained-and-implemented-step-by-step-2e495b57f801\n",
    "    \n",
    "    # Computing the graph Laplacian\n",
    "    # A is an adjacency matrix of some graph G\n",
    "    N = A.shape[0] # number vectorsof nodes in a graph\n",
    "    D = np.sum(A, 0) # node degrees\n",
    "    D_hat = np.diag((D + 1e-5)**(-0.5)) # normalized node degrees\n",
    "    L = np.identity(N) - np.dot(D_hat, A).dot(D_hat) # Laplacian\n",
    "    return torch.from_numpy(L).float()"
   ]
  },
  {
   "cell_type": "code",
   "execution_count": 7,
   "metadata": {},
   "outputs": [
    {
     "data": {
      "image/png": "[encoded data removed]",
      "text/plain": [
       "<Figure size 432x288 with 2 Axes>"
      ]
     },
     "metadata": {
      "needs_background": "light"
     },
     "output_type": "display_data"
    }
   ],
   "source": [
    "A = precompute_adjacency_matrix(28)\n",
    "plt.imshow(A, vmin=0, vmax=1.)\n",
    "plt.colorbar()\n",
    "plt.show()"
   ]
  },
  {
   "cell_type": "code",
   "execution_count": 8,
   "metadata": {},
   "outputs": [
    {
     "data": {
      "image/png": "[encoded data removed]",
      "text/plain": [
       "<Figure size 432x288 with 2 Axes>"
      ]
     },
     "metadata": {
      "needs_background": "light"
     },
     "output_type": "display_data"
    }
   ],
   "source": [
    "L = get_graph_laplacian(A.numpy())\n",
    "plt.imshow(L, vmin=0., vmax=1.)\n",
    "plt.colorbar()\n",
    "plt.show()"
   ]
  },
  {
   "cell_type": "code",
   "execution_count": 9,
   "metadata": {},
   "outputs": [],
   "source": [
    "class GraphNet(nn.Module):\n",
    "    def __init__(self, img_size=28, num_filters=2, num_classes=10):\n",
    "        super(GraphNet, self).__init__()\n",
    "\n",
    "        n_rows = img_size**2\n",
    "        self.fc = nn.Linear(n_rows*num_filters, num_classes, bias=False)\n",
    "\n",
    "        A = precompute_adjacency_matrix(img_size)  # 784x784\n",
    "        L = get_graph_laplacian(A.numpy()) # 784x784\n",
    "        \n",
    "        values, vectors = eigsh(L.numpy(), k=20, which='SM') # eigen-decomposition\n",
    "\n",
    "        vectors = torch.from_numpy(vectors)  # 784x20\n",
    "\n",
    "        # Weight matrix\n",
    "        W_spectral = nn.Parameter(torch.ones((img_size**2, num_filters))).float() # 784x2\n",
    "        torch.nn.init.kaiming_uniform_(W_spectral)\n",
    "\n",
    "        self.register_buffer('A', A)\n",
    "        self.register_buffer('L', L)\n",
    "        self.register_buffer('vectors', vectors)\n",
    "        self.register_buffer('W_spectral', W_spectral)\n",
    "\n",
    "    def forward(self, x): # [B, 1, 28, 28]\n",
    "        B = x.size(0) # Batch size\n",
    "\n",
    "        # Reshape eigenvectors\n",
    "        # from [H*W, 20] to [B, H*W, 20]\n",
    "        vectors_tensor = self.vectors.unsqueeze(0)\n",
    "        vectors_tensor = self.vectors.expand(B, -1, -1)\n",
    "        # from [H*W, 20] to [B, 20, H*W]\n",
    "        vectors_tensor_T = self.vectors.T.unsqueeze(0)\n",
    "        vectors_tensor_T = vectors_tensor_T.expand(B, -1, -1)\n",
    "\n",
    "        # Reshape inputs\n",
    "        # [B, C, H, W] -> [B, H*W, 1]\n",
    "        x_reshape = x.view(B, -1, 1)\n",
    "\n",
    "        # Reshape spectral weights to size [128, H*W, F]\n",
    "        W_spectral_tensor = self.W_spectral.unsqueeze(0)\n",
    "        W_spectral_tensor = self.W_spectral.expand(B, -1, -1) # [128x784x2]\n",
    "\n",
    "        # Spectral convolution on graphs\n",
    "        # [B, 20, H*W] . [B, H*W, 1] -> [B, 20, 1]\n",
    "        X_hat = vectors_tensor_T.bmm(x_reshape) # 20x1 node features in the \"spectral\" domain\n",
    "        W_hat = vectors_tensor_T.bmm(W_spectral_tensor) # 20xF filters in the \"spectral\" domain\n",
    "        \n",
    "        Y = vectors_tensor.bmm(X_hat * W_hat) # NxF result of convolution\n",
    "\n",
    "        # Fully connected\n",
    "        logits = self.fc(Y.reshape(B, -1))\n",
    "        probas = F.softmax(logits, dim=1)\n",
    "        return logits, probas"
   ]
  },
  {
   "cell_type": "code",
   "execution_count": 10,
   "metadata": {},
   "outputs": [],
   "source": [
    "torch.manual_seed(RANDOM_SEED)\n",
    "model = GraphNet(img_size=IMG_SIZE, num_filters=2, num_classes=10)\n",
    "model = model.to(DEVICE)\n",
    "optimizer = torch.optim.Adam(model.parameters())"
   ]
  },
  {
   "cell_type": "code",
   "execution_count": 11,
   "metadata": {},
   "outputs": [],
   "source": [
    "def compute_acc(model, dataloader, device):\n",
    "    correct_pred, num_examples = 0, 0\n",
    "    for features, targets in dataloader:\n",
    "        features = features.to(device)\n",
    "        targets = targets.to(device)\n",
    "        logits, probas = model(features)\n",
    "        _, pred_labels = torch.max(probas, 1)\n",
    "        num_examples += features.size(0)\n",
    "        correct_pred += (pred_labels == targets).sum()\n",
    "    return correct_pred.float() / num_examples * 100"
   ]
  },
  {
   "cell_type": "code",
   "execution_count": 12,
   "metadata": {},
   "outputs": [
    {
     "name": "stderr",
     "output_type": "stream",
     "text": [
      "  0%|          | 0/20 [00:00<?, ?it/s]"
     ]
    },
    {
     "name": "stdout",
     "output_type": "stream",
     "text": [
      "Epoch: 001/020 |Batch: 000/422 |Loss: 2.3100\n",
      "Epoch: 001/020 |Batch: 150/422 |Loss: 0.7928\n",
      "Epoch: 001/020 |Batch: 300/422 |Loss: 0.8294\n"
     ]
    },
    {
     "name": "stderr",
     "output_type": "stream",
     "text": [
      "  5%|▌         | 1/20 [00:04<01:20,  4.24s/it]"
     ]
    },
    {
     "name": "stdout",
     "output_type": "stream",
     "text": [
      "Epoch: 001/020\n",
      "Train Accuracy: 80.20 | Valid Accuracy: 80.85 | Test Accuracy: 81.21\n",
      "Time elapsed: 0.07 min\n",
      "Epoch: 002/020 |Batch: 000/422 |Loss: 0.5854\n",
      "Epoch: 002/020 |Batch: 150/422 |Loss: 0.6880\n",
      "Epoch: 002/020 |Batch: 300/422 |Loss: 0.6603\n"
     ]
    },
    {
     "name": "stderr",
     "output_type": "stream",
     "text": [
      " 10%|█         | 2/20 [00:08<01:16,  4.28s/it]"
     ]
    },
    {
     "name": "stdout",
     "output_type": "stream",
     "text": [
      "Epoch: 002/020\n",
      "Train Accuracy: 81.59 | Valid Accuracy: 81.90 | Test Accuracy: 82.55\n",
      "Time elapsed: 0.14 min\n",
      "Epoch: 003/020 |Batch: 000/422 |Loss: 0.6439\n",
      "Epoch: 003/020 |Batch: 150/422 |Loss: 0.4738\n",
      "Epoch: 003/020 |Batch: 300/422 |Loss: 0.4903\n"
     ]
    },
    {
     "name": "stderr",
     "output_type": "stream",
     "text": [
      " 15%|█▌        | 3/20 [00:12<01:12,  4.25s/it]"
     ]
    },
    {
     "name": "stdout",
     "output_type": "stream",
     "text": [
      "Epoch: 003/020\n",
      "Train Accuracy: 82.45 | Valid Accuracy: 82.88 | Test Accuracy: 83.31\n",
      "Time elapsed: 0.21 min\n",
      "Epoch: 004/020 |Batch: 000/422 |Loss: 0.7297\n",
      "Epoch: 004/020 |Batch: 150/422 |Loss: 0.5638\n",
      "Epoch: 004/020 |Batch: 300/422 |Loss: 0.4542\n"
     ]
    },
    {
     "name": "stderr",
     "output_type": "stream",
     "text": [
      " 20%|██        | 4/20 [00:17<01:08,  4.27s/it]"
     ]
    },
    {
     "name": "stdout",
     "output_type": "stream",
     "text": [
      "Epoch: 004/020\n",
      "Train Accuracy: 82.85 | Valid Accuracy: 83.38 | Test Accuracy: 83.73\n",
      "Time elapsed: 0.28 min\n",
      "Epoch: 005/020 |Batch: 000/422 |Loss: 0.6803\n",
      "Epoch: 005/020 |Batch: 150/422 |Loss: 0.4621\n",
      "Epoch: 005/020 |Batch: 300/422 |Loss: 0.5559\n"
     ]
    },
    {
     "name": "stderr",
     "output_type": "stream",
     "text": [
      " 25%|██▌       | 5/20 [00:21<01:03,  4.24s/it]"
     ]
    },
    {
     "name": "stdout",
     "output_type": "stream",
     "text": [
      "Epoch: 005/020\n",
      "Train Accuracy: 83.09 | Valid Accuracy: 83.43 | Test Accuracy: 84.03\n",
      "Time elapsed: 0.35 min\n",
      "Epoch: 006/020 |Batch: 000/422 |Loss: 0.5855\n",
      "Epoch: 006/020 |Batch: 150/422 |Loss: 0.5492\n",
      "Epoch: 006/020 |Batch: 300/422 |Loss: 0.5100\n"
     ]
    },
    {
     "name": "stderr",
     "output_type": "stream",
     "text": [
      " 30%|███       | 6/20 [00:25<00:58,  4.15s/it]"
     ]
    },
    {
     "name": "stdout",
     "output_type": "stream",
     "text": [
      "Epoch: 006/020\n",
      "Train Accuracy: 83.59 | Valid Accuracy: 83.78 | Test Accuracy: 83.97\n",
      "Time elapsed: 0.42 min\n",
      "Epoch: 007/020 |Batch: 000/422 |Loss: 0.5451\n",
      "Epoch: 007/020 |Batch: 150/422 |Loss: 0.5796\n",
      "Epoch: 007/020 |Batch: 300/422 |Loss: 0.6270\n"
     ]
    },
    {
     "name": "stderr",
     "output_type": "stream",
     "text": [
      " 35%|███▌      | 7/20 [00:29<00:56,  4.34s/it]"
     ]
    },
    {
     "name": "stdout",
     "output_type": "stream",
     "text": [
      "Epoch: 007/020\n",
      "Train Accuracy: 83.55 | Valid Accuracy: 84.07 | Test Accuracy: 84.09\n",
      "Time elapsed: 0.50 min\n",
      "Epoch: 008/020 |Batch: 000/422 |Loss: 0.5408\n",
      "Epoch: 008/020 |Batch: 150/422 |Loss: 0.5836\n",
      "Epoch: 008/020 |Batch: 300/422 |Loss: 0.5985\n"
     ]
    },
    {
     "name": "stderr",
     "output_type": "stream",
     "text": [
      " 40%|████      | 8/20 [00:34<00:51,  4.33s/it]"
     ]
    },
    {
     "name": "stdout",
     "output_type": "stream",
     "text": [
      "Epoch: 008/020\n",
      "Train Accuracy: 84.06 | Valid Accuracy: 84.50 | Test Accuracy: 84.85\n",
      "Time elapsed: 0.57 min\n",
      "Epoch: 009/020 |Batch: 000/422 |Loss: 0.5479\n",
      "Epoch: 009/020 |Batch: 150/422 |Loss: 0.5470\n",
      "Epoch: 009/020 |Batch: 300/422 |Loss: 0.4560\n"
     ]
    },
    {
     "name": "stderr",
     "output_type": "stream",
     "text": [
      " 45%|████▌     | 9/20 [00:38<00:47,  4.30s/it]"
     ]
    },
    {
     "name": "stdout",
     "output_type": "stream",
     "text": [
      "Epoch: 009/020\n",
      "Train Accuracy: 84.27 | Valid Accuracy: 84.40 | Test Accuracy: 85.03\n",
      "Time elapsed: 0.64 min\n",
      "Epoch: 010/020 |Batch: 000/422 |Loss: 0.5787\n",
      "Epoch: 010/020 |Batch: 150/422 |Loss: 0.4212\n",
      "Epoch: 010/020 |Batch: 300/422 |Loss: 0.4987\n"
     ]
    },
    {
     "name": "stderr",
     "output_type": "stream",
     "text": [
      " 50%|█████     | 10/20 [00:42<00:42,  4.30s/it]"
     ]
    },
    {
     "name": "stdout",
     "output_type": "stream",
     "text": [
      "Epoch: 010/020\n",
      "Train Accuracy: 83.98 | Valid Accuracy: 84.60 | Test Accuracy: 84.74\n",
      "Time elapsed: 0.71 min\n",
      "Epoch: 011/020 |Batch: 000/422 |Loss: 0.6031\n",
      "Epoch: 011/020 |Batch: 150/422 |Loss: 0.4983\n",
      "Epoch: 011/020 |Batch: 300/422 |Loss: 0.4981\n"
     ]
    },
    {
     "name": "stderr",
     "output_type": "stream",
     "text": [
      " 55%|█████▌    | 11/20 [00:46<00:38,  4.24s/it]"
     ]
    },
    {
     "name": "stdout",
     "output_type": "stream",
     "text": [
      "Epoch: 011/020\n",
      "Train Accuracy: 84.18 | Valid Accuracy: 84.78 | Test Accuracy: 85.03\n",
      "Time elapsed: 0.78 min\n",
      "Epoch: 012/020 |Batch: 000/422 |Loss: 0.3882\n",
      "Epoch: 012/020 |Batch: 150/422 |Loss: 0.5513\n",
      "Epoch: 012/020 |Batch: 300/422 |Loss: 0.5156\n"
     ]
    },
    {
     "name": "stderr",
     "output_type": "stream",
     "text": [
      " 60%|██████    | 12/20 [00:51<00:33,  4.20s/it]"
     ]
    },
    {
     "name": "stdout",
     "output_type": "stream",
     "text": [
      "Epoch: 012/020\n",
      "Train Accuracy: 84.33 | Valid Accuracy: 84.98 | Test Accuracy: 84.99\n",
      "Time elapsed: 0.85 min\n",
      "Epoch: 013/020 |Batch: 000/422 |Loss: 0.5544\n",
      "Epoch: 013/020 |Batch: 150/422 |Loss: 0.5681\n",
      "Epoch: 013/020 |Batch: 300/422 |Loss: 0.5028\n"
     ]
    },
    {
     "name": "stderr",
     "output_type": "stream",
     "text": [
      " 65%|██████▌   | 13/20 [00:55<00:29,  4.21s/it]"
     ]
    },
    {
     "name": "stdout",
     "output_type": "stream",
     "text": [
      "Epoch: 013/020\n",
      "Train Accuracy: 84.43 | Valid Accuracy: 84.82 | Test Accuracy: 84.86\n",
      "Time elapsed: 0.92 min\n",
      "Epoch: 014/020 |Batch: 000/422 |Loss: 0.4337\n",
      "Epoch: 014/020 |Batch: 150/422 |Loss: 0.5530\n",
      "Epoch: 014/020 |Batch: 300/422 |Loss: 0.4411\n"
     ]
    },
    {
     "name": "stderr",
     "output_type": "stream",
     "text": [
      " 70%|███████   | 14/20 [00:59<00:25,  4.17s/it]"
     ]
    },
    {
     "name": "stdout",
     "output_type": "stream",
     "text": [
      "Epoch: 014/020\n",
      "Train Accuracy: 84.23 | Valid Accuracy: 84.25 | Test Accuracy: 84.85\n",
      "Time elapsed: 0.99 min\n",
      "Epoch: 015/020 |Batch: 000/422 |Loss: 0.8082\n",
      "Epoch: 015/020 |Batch: 150/422 |Loss: 0.5892\n",
      "Epoch: 015/020 |Batch: 300/422 |Loss: 0.4848\n"
     ]
    },
    {
     "name": "stderr",
     "output_type": "stream",
     "text": [
      " 75%|███████▌  | 15/20 [01:03<00:20,  4.18s/it]"
     ]
    },
    {
     "name": "stdout",
     "output_type": "stream",
     "text": [
      "Epoch: 015/020\n",
      "Train Accuracy: 84.71 | Valid Accuracy: 84.98 | Test Accuracy: 85.19\n",
      "Time elapsed: 1.06 min\n",
      "Epoch: 016/020 |Batch: 000/422 |Loss: 0.4673\n",
      "Epoch: 016/020 |Batch: 150/422 |Loss: 0.5016\n",
      "Epoch: 016/020 |Batch: 300/422 |Loss: 0.5323\n"
     ]
    },
    {
     "name": "stderr",
     "output_type": "stream",
     "text": [
      " 80%|████████  | 16/20 [01:07<00:16,  4.18s/it]"
     ]
    },
    {
     "name": "stdout",
     "output_type": "stream",
     "text": [
      "Epoch: 016/020\n",
      "Train Accuracy: 84.71 | Valid Accuracy: 84.82 | Test Accuracy: 85.43\n",
      "Time elapsed: 1.13 min\n",
      "Epoch: 017/020 |Batch: 000/422 |Loss: 0.5916\n",
      "Epoch: 017/020 |Batch: 150/422 |Loss: 0.4727\n",
      "Epoch: 017/020 |Batch: 300/422 |Loss: 0.4708\n"
     ]
    },
    {
     "name": "stderr",
     "output_type": "stream",
     "text": [
      " 85%|████████▌ | 17/20 [01:11<00:12,  4.19s/it]"
     ]
    },
    {
     "name": "stdout",
     "output_type": "stream",
     "text": [
      "Epoch: 017/020\n",
      "Train Accuracy: 84.72 | Valid Accuracy: 85.10 | Test Accuracy: 85.46\n",
      "Time elapsed: 1.20 min\n",
      "Epoch: 018/020 |Batch: 000/422 |Loss: 0.5350\n",
      "Epoch: 018/020 |Batch: 150/422 |Loss: 0.4969\n",
      "Epoch: 018/020 |Batch: 300/422 |Loss: 0.6034\n"
     ]
    },
    {
     "name": "stderr",
     "output_type": "stream",
     "text": [
      " 90%|█████████ | 18/20 [01:15<00:08,  4.15s/it]"
     ]
    },
    {
     "name": "stdout",
     "output_type": "stream",
     "text": [
      "Epoch: 018/020\n",
      "Train Accuracy: 84.89 | Valid Accuracy: 85.23 | Test Accuracy: 85.52\n",
      "Time elapsed: 1.27 min\n",
      "Epoch: 019/020 |Batch: 000/422 |Loss: 0.5947\n",
      "Epoch: 019/020 |Batch: 150/422 |Loss: 0.4334\n",
      "Epoch: 019/020 |Batch: 300/422 |Loss: 0.5289\n"
     ]
    },
    {
     "name": "stderr",
     "output_type": "stream",
     "text": [
      " 95%|█████████▌| 19/20 [01:19<00:04,  4.05s/it]"
     ]
    },
    {
     "name": "stdout",
     "output_type": "stream",
     "text": [
      "Epoch: 019/020\n",
      "Train Accuracy: 84.52 | Valid Accuracy: 84.97 | Test Accuracy: 85.23\n",
      "Time elapsed: 1.33 min\n",
      "Epoch: 020/020 |Batch: 000/422 |Loss: 0.4829\n",
      "Epoch: 020/020 |Batch: 150/422 |Loss: 0.5159\n",
      "Epoch: 020/020 |Batch: 300/422 |Loss: 0.4671\n"
     ]
    },
    {
     "name": "stderr",
     "output_type": "stream",
     "text": [
      "100%|██████████| 20/20 [01:23<00:00,  4.18s/it]"
     ]
    },
    {
     "name": "stdout",
     "output_type": "stream",
     "text": [
      "Epoch: 020/020\n",
      "Train Accuracy: 84.54 | Valid Accuracy: 84.58 | Test Accuracy: 85.23\n",
      "Time elapsed: 1.39 min\n",
      "Total Training Time: 1.39 min\n"
     ]
    },
    {
     "name": "stderr",
     "output_type": "stream",
     "text": [
      "\n"
     ]
    }
   ],
   "source": [
    "start_time = time.time()\n",
    "\n",
    "loss_list = []\n",
    "train_acc_list, val_acc_list, test_acc_list = [], [], []\n",
    "\n",
    "for epoch in tqdm(range(NUM_EPOCHS)):\n",
    "    model.train()\n",
    "    for batch_idx, (features, targets) in enumerate(train_loader):\n",
    "        features = features.to(DEVICE)\n",
    "        targets = targets.to(DEVICE)\n",
    "\n",
    "        # Forward and back-propagation\n",
    "        logits, probas = model(features)\n",
    "        loss = F.cross_entropy(logits, targets)\n",
    "        optimizer.zero_grad()\n",
    "        loss.backward()\n",
    "        # Update model parameters\n",
    "        optimizer.step()\n",
    "        loss_list.append(loss.item())\n",
    "\n",
    "        if not batch_idx % 150:\n",
    "            print(f\"Epoch: {epoch+1:03d}/{NUM_EPOCHS:03d} |\"\n",
    "                    f\"Batch: {batch_idx:03d}/{len(train_loader):03d} |\"\n",
    "                    f\"Loss: {loss:.4f}\")\n",
    "    model.eval()\n",
    "    with torch.no_grad():\n",
    "        train_acc = compute_acc(model, train_loader, DEVICE)\n",
    "        val_acc   = compute_acc(model, val_loader, DEVICE)\n",
    "        test_acc  = compute_acc(model, test_loader, DEVICE)\n",
    "\n",
    "        print(f\"Epoch: {epoch+1:03d}/{NUM_EPOCHS:03d}\\n\"\n",
    "                f\"Train Accuracy: {train_acc:.2f} | Valid Accuracy: {val_acc:.2f} | Test Accuracy: {test_acc:.2f}\")\n",
    "\n",
    "        train_acc_list.append(train_acc)\n",
    "        val_acc_list.append(val_acc)\n",
    "        test_acc_list.append(test_acc)\n",
    "\n",
    "    elapsed = (time.time() - start_time) / 60\n",
    "    print(f\"Time elapsed: {elapsed:.2f} min\")\n",
    "\n",
    "elapsed = (time.time() - start_time) / 60\n",
    "print(f\"Total Training Time: {elapsed:.2f} min\")"
   ]
  },
  {
   "cell_type": "markdown",
   "metadata": {},
   "source": [
    "### Evaluation"
   ]
  },
  {
   "cell_type": "code",
   "execution_count": 13,
   "metadata": {},
   "outputs": [
    {
     "data": {
      "image/png": "[encoded data removed]",
      "text/plain": [
       "<Figure size 432x288 with 1 Axes>"
      ]
     },
     "metadata": {
      "needs_background": "light"
     },
     "output_type": "display_data"
    }
   ],
   "source": [
    "plt.plot(loss_list, label='Loss')\n",
    "plt.plot(np.convolve(loss_list, np.ones(200,) / 200, mode='valid'), label='Running Average')\n",
    "plt.ylabel('Cross Entropy Loss')\n",
    "plt.xlabel('Iteration')\n",
    "plt.legend()\n",
    "plt.show()"
   ]
  },
  {
   "cell_type": "code",
   "execution_count": 14,
   "metadata": {},
   "outputs": [
    {
     "data": {
      "image/png": "[encoded data removed]",
      "text/plain": [
       "<Figure size 432x288 with 1 Axes>"
      ]
     },
     "metadata": {
      "needs_background": "light"
     },
     "output_type": "display_data"
    }
   ],
   "source": [
    "plt.plot(np.arange(1, NUM_EPOCHS+1), train_acc_list, label='Training')\n",
    "plt.plot(np.arange(1, NUM_EPOCHS+1), val_acc_list, label='Validation')\n",
    "plt.plot(np.arange(1, NUM_EPOCHS+1), test_acc_list, label='Testing')\n",
    "plt.xlabel('Epoch')\n",
    "plt.ylabel('Accuracy')\n",
    "plt.legend()\n",
    "plt.show()"
   ]
  },
  {
   "cell_type": "code",
   "execution_count": null,
   "metadata": {},
   "outputs": [],
   "source": []
  }
 ],
 "metadata": {
  "interpreter": {
   "hash": "cd409492fea0b90f1e24a4fd0f416e2edfe4fabf2ed7f769ce0dd2938f1b1517"
  },
  "kernelspec": {
   "display_name": "Python 3.8.12 ('torch-env')",
   "language": "python",
   "name": "python3"
  },
  "language_info": {
   "codemirror_mode": {
    "name": "ipython",
    "version": 3
   },
   "file_extension": ".py",
   "mimetype": "text/x-python",
   "name": "python",
   "nbconvert_exporter": "python",
   "pygments_lexer": "ipython3",
   "version": "3.8.12"
  },
  "orig_nbformat": 4
 },
 "nbformat": 4,
 "nbformat_minor": 2
}
